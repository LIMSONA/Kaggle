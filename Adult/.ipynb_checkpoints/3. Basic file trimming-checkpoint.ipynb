{
 "cells": [
  {
   "cell_type": "markdown",
   "id": "0ec6536a",
   "metadata": {},
   "source": [
    "# 필요 라이브러리"
   ]
  },
  {
   "cell_type": "code",
   "execution_count": 1,
   "id": "44f49eb9",
   "metadata": {},
   "outputs": [],
   "source": [
    "import os\n",
    "import pandas as pd\n",
    "import numpy as np\n",
    "import matplotlib.pyplot as plt\n",
    "import seaborn as sns\n",
    "\n",
    "# 오류 메세지 안뜨게\n",
    "import warnings\n",
    "warnings.filterwarnings(action='ignore')"
   ]
  },
  {
   "cell_type": "markdown",
   "id": "b9dd0a1c",
   "metadata": {},
   "source": [
    "#  raw data 간단한 전처리 진행하기"
   ]
  },
  {
   "cell_type": "code",
   "execution_count": 2,
   "id": "7c2739c4",
   "metadata": {},
   "outputs": [
    {
     "data": {
      "text/plain": [
       "['.ipynb_checkpoints',\n",
       " '1. Basic EDA.ipynb',\n",
       " '2. Deep EDA & Feature Engineering.ipynb',\n",
       " '3. Basic file trimming.ipynb',\n",
       " 'adult_data.csv',\n",
       " 'adult_names.txt',\n",
       " 'adult_test.csv']"
      ]
     },
     "execution_count": 2,
     "metadata": {},
     "output_type": "execute_result"
    }
   ],
   "source": [
    "os.listdir()"
   ]
  },
  {
   "cell_type": "markdown",
   "id": "e7fdbdbb",
   "metadata": {},
   "source": [
    "## 열 설정"
   ]
  },
  {
   "cell_type": "code",
   "execution_count": 3,
   "id": "db79bbe0",
   "metadata": {
    "scrolled": true
   },
   "outputs": [],
   "source": [
    "train = pd.read_csv(\"adult_data.csv\")\n",
    "train.columns = ['age', 'workclass', 'fnlwgt', 'education', \n",
    "                 'education_num', 'marital_status', 'occupation',\n",
    "                 'relationship', 'race' ,'sex' ,'capital_gain', \n",
    "                 'capital_loss', 'hours_per_week', 'native_country','income']\n",
    "test =  pd.read_csv(\"adult_test.csv\")\n",
    "test.columns =  ['age', 'workclass', 'fnlwgt', 'education', \n",
    "                 'education_num', 'marital_status', 'occupation',\n",
    "                 'relationship', 'race' ,'sex' ,'capital_gain', \n",
    "                 'capital_loss', 'hours_per_week', 'native_country','income']"
   ]
  },
  {
   "cell_type": "markdown",
   "id": "4cd4d5ec",
   "metadata": {},
   "source": [
    "## object value값 앞 공백 삭제하기"
   ]
  },
  {
   "cell_type": "code",
   "execution_count": 4,
   "id": "489c0743",
   "metadata": {},
   "outputs": [
    {
     "data": {
      "text/plain": [
       "age                int64\n",
       "workclass         object\n",
       "fnlwgt             int64\n",
       "education         object\n",
       "education_num      int64\n",
       "marital_status    object\n",
       "occupation        object\n",
       "relationship      object\n",
       "race              object\n",
       "sex               object\n",
       "capital_gain       int64\n",
       "capital_loss       int64\n",
       "hours_per_week     int64\n",
       "native_country    object\n",
       "income            object\n",
       "dtype: object"
      ]
     },
     "execution_count": 4,
     "metadata": {},
     "output_type": "execute_result"
    }
   ],
   "source": [
    "#object 값에서 앞에 공백이 발생함을 확인함\n",
    "train.dtypes"
   ]
  },
  {
   "cell_type": "code",
   "execution_count": 5,
   "id": "af641b63",
   "metadata": {},
   "outputs": [],
   "source": [
    "train[[\"workclass\",\"education\",\"marital_status\",\"occupation\",\n",
    "       \"relationship\",\"race\",\"sex\",\"native_country\"]] = \\\n",
    "train[[\"workclass\",\"education\",\"marital_status\",\"occupation\",\n",
    "       \"relationship\",\"race\",\"sex\",\"native_country\"]].applymap(lambda x : x.lstrip())"
   ]
  },
  {
   "cell_type": "code",
   "execution_count": 6,
   "id": "5f2c9e70",
   "metadata": {},
   "outputs": [],
   "source": [
    "test[[\"workclass\",\"education\",\"marital_status\",\"occupation\",\n",
    "       \"relationship\",\"race\",\"sex\",\"native_country\"]] = \\\n",
    "test[[\"workclass\",\"education\",\"marital_status\",\"occupation\",\n",
    "       \"relationship\",\"race\",\"sex\",\"native_country\"]].applymap(lambda x : x.lstrip())"
   ]
  },
  {
   "cell_type": "code",
   "execution_count": 7,
   "id": "84850d7d",
   "metadata": {},
   "outputs": [
    {
     "data": {
      "text/plain": [
       "array(['Self-emp-not-inc', 'Private', 'State-gov', 'Federal-gov',\n",
       "       'Local-gov', '?', 'Self-emp-inc', 'Without-pay', 'Never-worked'],\n",
       "      dtype=object)"
      ]
     },
     "execution_count": 7,
     "metadata": {},
     "output_type": "execute_result"
    }
   ],
   "source": [
    "# 잘 처리되었나 확인\n",
    "train.workclass.unique()"
   ]
  },
  {
   "cell_type": "code",
   "execution_count": 8,
   "id": "7482a2c6",
   "metadata": {},
   "outputs": [
    {
     "data": {
      "text/plain": [
       "array(['Private', 'Local-gov', '?', 'Self-emp-not-inc', 'Federal-gov',\n",
       "       'State-gov', 'Self-emp-inc', 'Without-pay', 'Never-worked'],\n",
       "      dtype=object)"
      ]
     },
     "execution_count": 8,
     "metadata": {},
     "output_type": "execute_result"
    }
   ],
   "source": [
    "test.workclass.unique()"
   ]
  },
  {
   "cell_type": "markdown",
   "id": "dabd2115",
   "metadata": {},
   "source": [
    "## 문자열 값에서 하이픈'-'을 언더바'_'로 바꾸기"
   ]
  },
  {
   "cell_type": "code",
   "execution_count": 14,
   "id": "0f3549d8",
   "metadata": {},
   "outputs": [
    {
     "data": {
      "text/plain": [
       "array(['Bachelors', 'HS_grad', '11th', 'Masters', '9th', 'Some_college',\n",
       "       'Assoc_acdm', 'Assoc_voc', '7th_8th', 'Doctorate', 'Prof_school',\n",
       "       '5th_6th', '10th', '1st_4th', 'Preschool', '12th'], dtype=object)"
      ]
     },
     "execution_count": 14,
     "metadata": {},
     "output_type": "execute_result"
    }
   ],
   "source": [
    "train.education.str.replace(\"-\",\"_\").unique()"
   ]
  },
  {
   "cell_type": "code",
   "execution_count": 21,
   "id": "3772ea65",
   "metadata": {},
   "outputs": [
    {
     "data": {
      "text/html": [
       "<div>\n",
       "<style scoped>\n",
       "    .dataframe tbody tr th:only-of-type {\n",
       "        vertical-align: middle;\n",
       "    }\n",
       "\n",
       "    .dataframe tbody tr th {\n",
       "        vertical-align: top;\n",
       "    }\n",
       "\n",
       "    .dataframe thead th {\n",
       "        text-align: right;\n",
       "    }\n",
       "</style>\n",
       "<table border=\"1\" class=\"dataframe\">\n",
       "  <thead>\n",
       "    <tr style=\"text-align: right;\">\n",
       "      <th></th>\n",
       "      <th>age</th>\n",
       "      <th>workclass</th>\n",
       "      <th>fnlwgt</th>\n",
       "      <th>education</th>\n",
       "      <th>education_num</th>\n",
       "      <th>marital_status</th>\n",
       "      <th>occupation</th>\n",
       "      <th>relationship</th>\n",
       "      <th>race</th>\n",
       "      <th>sex</th>\n",
       "      <th>capital_gain</th>\n",
       "      <th>capital_loss</th>\n",
       "      <th>hours_per_week</th>\n",
       "      <th>native_country</th>\n",
       "      <th>income</th>\n",
       "    </tr>\n",
       "  </thead>\n",
       "  <tbody>\n",
       "    <tr>\n",
       "      <th>0</th>\n",
       "      <td>50</td>\n",
       "      <td>Self_emp_not_inc</td>\n",
       "      <td>83311</td>\n",
       "      <td>Bachelors</td>\n",
       "      <td>13</td>\n",
       "      <td>Married_civ_spouse</td>\n",
       "      <td>Exec_managerial</td>\n",
       "      <td>Husband</td>\n",
       "      <td>White</td>\n",
       "      <td>Male</td>\n",
       "      <td>0</td>\n",
       "      <td>0</td>\n",
       "      <td>13</td>\n",
       "      <td>United_States</td>\n",
       "      <td>&lt;=50K</td>\n",
       "    </tr>\n",
       "    <tr>\n",
       "      <th>1</th>\n",
       "      <td>38</td>\n",
       "      <td>Private</td>\n",
       "      <td>215646</td>\n",
       "      <td>HS_grad</td>\n",
       "      <td>9</td>\n",
       "      <td>Divorced</td>\n",
       "      <td>Handlers_cleaners</td>\n",
       "      <td>Not_in_family</td>\n",
       "      <td>White</td>\n",
       "      <td>Male</td>\n",
       "      <td>0</td>\n",
       "      <td>0</td>\n",
       "      <td>40</td>\n",
       "      <td>United_States</td>\n",
       "      <td>&lt;=50K</td>\n",
       "    </tr>\n",
       "    <tr>\n",
       "      <th>2</th>\n",
       "      <td>53</td>\n",
       "      <td>Private</td>\n",
       "      <td>234721</td>\n",
       "      <td>11th</td>\n",
       "      <td>7</td>\n",
       "      <td>Married_civ_spouse</td>\n",
       "      <td>Handlers_cleaners</td>\n",
       "      <td>Husband</td>\n",
       "      <td>Black</td>\n",
       "      <td>Male</td>\n",
       "      <td>0</td>\n",
       "      <td>0</td>\n",
       "      <td>40</td>\n",
       "      <td>United_States</td>\n",
       "      <td>&lt;=50K</td>\n",
       "    </tr>\n",
       "    <tr>\n",
       "      <th>3</th>\n",
       "      <td>28</td>\n",
       "      <td>Private</td>\n",
       "      <td>338409</td>\n",
       "      <td>Bachelors</td>\n",
       "      <td>13</td>\n",
       "      <td>Married_civ_spouse</td>\n",
       "      <td>Prof_specialty</td>\n",
       "      <td>Wife</td>\n",
       "      <td>Black</td>\n",
       "      <td>Female</td>\n",
       "      <td>0</td>\n",
       "      <td>0</td>\n",
       "      <td>40</td>\n",
       "      <td>Cuba</td>\n",
       "      <td>&lt;=50K</td>\n",
       "    </tr>\n",
       "    <tr>\n",
       "      <th>4</th>\n",
       "      <td>37</td>\n",
       "      <td>Private</td>\n",
       "      <td>284582</td>\n",
       "      <td>Masters</td>\n",
       "      <td>14</td>\n",
       "      <td>Married_civ_spouse</td>\n",
       "      <td>Exec_managerial</td>\n",
       "      <td>Wife</td>\n",
       "      <td>White</td>\n",
       "      <td>Female</td>\n",
       "      <td>0</td>\n",
       "      <td>0</td>\n",
       "      <td>40</td>\n",
       "      <td>United_States</td>\n",
       "      <td>&lt;=50K</td>\n",
       "    </tr>\n",
       "  </tbody>\n",
       "</table>\n",
       "</div>"
      ],
      "text/plain": [
       "   age         workclass  fnlwgt  education  education_num  \\\n",
       "0   50  Self_emp_not_inc   83311  Bachelors             13   \n",
       "1   38           Private  215646    HS_grad              9   \n",
       "2   53           Private  234721       11th              7   \n",
       "3   28           Private  338409  Bachelors             13   \n",
       "4   37           Private  284582    Masters             14   \n",
       "\n",
       "       marital_status         occupation   relationship   race     sex  \\\n",
       "0  Married_civ_spouse    Exec_managerial        Husband  White    Male   \n",
       "1            Divorced  Handlers_cleaners  Not_in_family  White    Male   \n",
       "2  Married_civ_spouse  Handlers_cleaners        Husband  Black    Male   \n",
       "3  Married_civ_spouse     Prof_specialty           Wife  Black  Female   \n",
       "4  Married_civ_spouse    Exec_managerial           Wife  White  Female   \n",
       "\n",
       "   capital_gain  capital_loss  hours_per_week native_country  income  \n",
       "0             0             0              13  United_States   <=50K  \n",
       "1             0             0              40  United_States   <=50K  \n",
       "2             0             0              40  United_States   <=50K  \n",
       "3             0             0              40           Cuba   <=50K  \n",
       "4             0             0              40  United_States   <=50K  "
      ]
     },
     "execution_count": 21,
     "metadata": {},
     "output_type": "execute_result"
    }
   ],
   "source": [
    "train[[\"workclass\",\"education\",\"marital_status\",\"occupation\",\n",
    "       \"relationship\",\"race\",\"sex\",\"native_country\"]] = \\\n",
    "train[[\"workclass\",\"education\",\"marital_status\",\"occupation\",\n",
    "       \"relationship\",\"race\",\"sex\",\"native_country\"]].applymap(lambda x: x.replace(\"-\",\"_\"))\n",
    "\n",
    "train.head()"
   ]
  },
  {
   "cell_type": "code",
   "execution_count": 22,
   "id": "5bb36f30",
   "metadata": {
    "scrolled": true
   },
   "outputs": [
    {
     "data": {
      "text/html": [
       "<div>\n",
       "<style scoped>\n",
       "    .dataframe tbody tr th:only-of-type {\n",
       "        vertical-align: middle;\n",
       "    }\n",
       "\n",
       "    .dataframe tbody tr th {\n",
       "        vertical-align: top;\n",
       "    }\n",
       "\n",
       "    .dataframe thead th {\n",
       "        text-align: right;\n",
       "    }\n",
       "</style>\n",
       "<table border=\"1\" class=\"dataframe\">\n",
       "  <thead>\n",
       "    <tr style=\"text-align: right;\">\n",
       "      <th></th>\n",
       "      <th>age</th>\n",
       "      <th>workclass</th>\n",
       "      <th>fnlwgt</th>\n",
       "      <th>education</th>\n",
       "      <th>education_num</th>\n",
       "      <th>marital_status</th>\n",
       "      <th>occupation</th>\n",
       "      <th>relationship</th>\n",
       "      <th>race</th>\n",
       "      <th>sex</th>\n",
       "      <th>capital_gain</th>\n",
       "      <th>capital_loss</th>\n",
       "      <th>hours_per_week</th>\n",
       "      <th>native_country</th>\n",
       "      <th>income</th>\n",
       "    </tr>\n",
       "  </thead>\n",
       "  <tbody>\n",
       "    <tr>\n",
       "      <th>0</th>\n",
       "      <td>38</td>\n",
       "      <td>Private</td>\n",
       "      <td>89814</td>\n",
       "      <td>HS_grad</td>\n",
       "      <td>9</td>\n",
       "      <td>Married_civ_spouse</td>\n",
       "      <td>Farming_fishing</td>\n",
       "      <td>Husband</td>\n",
       "      <td>White</td>\n",
       "      <td>Male</td>\n",
       "      <td>0</td>\n",
       "      <td>0</td>\n",
       "      <td>50</td>\n",
       "      <td>United_States</td>\n",
       "      <td>&lt;=50K.</td>\n",
       "    </tr>\n",
       "    <tr>\n",
       "      <th>1</th>\n",
       "      <td>28</td>\n",
       "      <td>Local_gov</td>\n",
       "      <td>336951</td>\n",
       "      <td>Assoc_acdm</td>\n",
       "      <td>12</td>\n",
       "      <td>Married_civ_spouse</td>\n",
       "      <td>Protective_serv</td>\n",
       "      <td>Husband</td>\n",
       "      <td>White</td>\n",
       "      <td>Male</td>\n",
       "      <td>0</td>\n",
       "      <td>0</td>\n",
       "      <td>40</td>\n",
       "      <td>United_States</td>\n",
       "      <td>&gt;50K.</td>\n",
       "    </tr>\n",
       "    <tr>\n",
       "      <th>2</th>\n",
       "      <td>44</td>\n",
       "      <td>Private</td>\n",
       "      <td>160323</td>\n",
       "      <td>Some_college</td>\n",
       "      <td>10</td>\n",
       "      <td>Married_civ_spouse</td>\n",
       "      <td>Machine_op_inspct</td>\n",
       "      <td>Husband</td>\n",
       "      <td>Black</td>\n",
       "      <td>Male</td>\n",
       "      <td>7688</td>\n",
       "      <td>0</td>\n",
       "      <td>40</td>\n",
       "      <td>United_States</td>\n",
       "      <td>&gt;50K.</td>\n",
       "    </tr>\n",
       "    <tr>\n",
       "      <th>3</th>\n",
       "      <td>18</td>\n",
       "      <td>?</td>\n",
       "      <td>103497</td>\n",
       "      <td>Some_college</td>\n",
       "      <td>10</td>\n",
       "      <td>Never_married</td>\n",
       "      <td>?</td>\n",
       "      <td>Own_child</td>\n",
       "      <td>White</td>\n",
       "      <td>Female</td>\n",
       "      <td>0</td>\n",
       "      <td>0</td>\n",
       "      <td>30</td>\n",
       "      <td>United_States</td>\n",
       "      <td>&lt;=50K.</td>\n",
       "    </tr>\n",
       "    <tr>\n",
       "      <th>4</th>\n",
       "      <td>34</td>\n",
       "      <td>Private</td>\n",
       "      <td>198693</td>\n",
       "      <td>10th</td>\n",
       "      <td>6</td>\n",
       "      <td>Never_married</td>\n",
       "      <td>Other_service</td>\n",
       "      <td>Not_in_family</td>\n",
       "      <td>White</td>\n",
       "      <td>Male</td>\n",
       "      <td>0</td>\n",
       "      <td>0</td>\n",
       "      <td>30</td>\n",
       "      <td>United_States</td>\n",
       "      <td>&lt;=50K.</td>\n",
       "    </tr>\n",
       "  </tbody>\n",
       "</table>\n",
       "</div>"
      ],
      "text/plain": [
       "   age  workclass  fnlwgt     education  education_num      marital_status  \\\n",
       "0   38    Private   89814       HS_grad              9  Married_civ_spouse   \n",
       "1   28  Local_gov  336951    Assoc_acdm             12  Married_civ_spouse   \n",
       "2   44    Private  160323  Some_college             10  Married_civ_spouse   \n",
       "3   18          ?  103497  Some_college             10       Never_married   \n",
       "4   34    Private  198693          10th              6       Never_married   \n",
       "\n",
       "          occupation   relationship   race     sex  capital_gain  \\\n",
       "0    Farming_fishing        Husband  White    Male             0   \n",
       "1    Protective_serv        Husband  White    Male             0   \n",
       "2  Machine_op_inspct        Husband  Black    Male          7688   \n",
       "3                  ?      Own_child  White  Female             0   \n",
       "4      Other_service  Not_in_family  White    Male             0   \n",
       "\n",
       "   capital_loss  hours_per_week native_country   income  \n",
       "0             0              50  United_States   <=50K.  \n",
       "1             0              40  United_States    >50K.  \n",
       "2             0              40  United_States    >50K.  \n",
       "3             0              30  United_States   <=50K.  \n",
       "4             0              30  United_States   <=50K.  "
      ]
     },
     "execution_count": 22,
     "metadata": {},
     "output_type": "execute_result"
    }
   ],
   "source": [
    "test[[\"workclass\",\"education\",\"marital_status\",\"occupation\",\n",
    "       \"relationship\",\"race\",\"sex\",\"native_country\"]] = \\\n",
    "test[[\"workclass\",\"education\",\"marital_status\",\"occupation\",\n",
    "       \"relationship\",\"race\",\"sex\",\"native_country\"]].applymap(lambda x: x.replace(\"-\",\"_\"))\n",
    "\n",
    "test.head()"
   ]
  },
  {
   "cell_type": "markdown",
   "id": "7b4e10db",
   "metadata": {},
   "source": [
    "## income열 값에서 공백없애기"
   ]
  },
  {
   "cell_type": "code",
   "execution_count": 23,
   "id": "a3a04740",
   "metadata": {},
   "outputs": [
    {
     "data": {
      "text/plain": [
       "array([' <=50K', ' >50K'], dtype=object)"
      ]
     },
     "execution_count": 23,
     "metadata": {},
     "output_type": "execute_result"
    }
   ],
   "source": [
    "train.income.unique()"
   ]
  },
  {
   "cell_type": "code",
   "execution_count": 39,
   "id": "2211accd",
   "metadata": {},
   "outputs": [],
   "source": [
    "train.income = train.income.replace([' <=50K', ' >50K'],['<=50K', '>50K'])\n",
    "test.income = test.income.replace([' <=50K', ' >50K'],['<=50K', '>50K'])"
   ]
  },
  {
   "cell_type": "code",
   "execution_count": 38,
   "id": "8c610088",
   "metadata": {
    "scrolled": false
   },
   "outputs": [
    {
     "data": {
      "text/plain": [
       "array(['<=50K', '>50K'], dtype=object)"
      ]
     },
     "execution_count": 38,
     "metadata": {},
     "output_type": "execute_result"
    }
   ],
   "source": [
    "train.income.unique()"
   ]
  },
  {
   "cell_type": "markdown",
   "id": "97dd1b84",
   "metadata": {},
   "source": [
    "# csv로 저장하기"
   ]
  },
  {
   "cell_type": "code",
   "execution_count": 40,
   "id": "3da69433",
   "metadata": {},
   "outputs": [],
   "source": [
    "train.to_csv(\"train.csv\")\n",
    "test.to_csv(\"test.csv\")"
   ]
  },
  {
   "cell_type": "code",
   "execution_count": 41,
   "id": "f124e25e",
   "metadata": {},
   "outputs": [
    {
     "data": {
      "text/plain": [
       "['.ipynb_checkpoints',\n",
       " '1. Basic EDA.ipynb',\n",
       " '2. Deep EDA & Feature Engineering.ipynb',\n",
       " '3. Basic file trimming.ipynb',\n",
       " 'adult_data.csv',\n",
       " 'adult_names.txt',\n",
       " 'adult_test.csv',\n",
       " 'test.csv',\n",
       " 'train.csv']"
      ]
     },
     "execution_count": 41,
     "metadata": {},
     "output_type": "execute_result"
    }
   ],
   "source": [
    "os.listdir()"
   ]
  }
 ],
 "metadata": {
  "kernelspec": {
   "display_name": "Python 3 (ipykernel)",
   "language": "python",
   "name": "python3"
  },
  "language_info": {
   "codemirror_mode": {
    "name": "ipython",
    "version": 3
   },
   "file_extension": ".py",
   "mimetype": "text/x-python",
   "name": "python",
   "nbconvert_exporter": "python",
   "pygments_lexer": "ipython3",
   "version": "3.9.7"
  },
  "toc": {
   "base_numbering": 1,
   "nav_menu": {},
   "number_sections": true,
   "sideBar": true,
   "skip_h1_title": false,
   "title_cell": "Table of Contents",
   "title_sidebar": "Contents",
   "toc_cell": false,
   "toc_position": {
    "height": "calc(100% - 180px)",
    "left": "10px",
    "top": "150px",
    "width": "201.6px"
   },
   "toc_section_display": true,
   "toc_window_display": true
  }
 },
 "nbformat": 4,
 "nbformat_minor": 5
}
